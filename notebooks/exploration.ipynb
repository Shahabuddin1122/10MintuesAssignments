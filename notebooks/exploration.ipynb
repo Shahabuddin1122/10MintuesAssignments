{
 "cells": [
  {
   "cell_type": "code",
   "id": "initial_id",
   "metadata": {
    "collapsed": true,
    "ExecuteTime": {
     "end_time": "2025-07-25T09:23:21.071021Z",
     "start_time": "2025-07-25T09:23:20.121956Z"
    }
   },
   "source": [
    "import os\n",
    "from typing import List\n",
    "from docx import Document as DocxDocument\n",
    "from langchain.schema import Document\n",
    "from langchain.document_loaders import TextLoader, PyPDFLoader\n",
    "from langchain.vectorstores import FAISS\n",
    "from vector_store.embedder import get_embedder\n",
    "\n",
    "\n",
    "# Loaders\n",
    "def load_txt(path: str) -> List[Document]:\n",
    "    return TextLoader(path, encoding=\"utf-8\").load()\n",
    "\n",
    "\n",
    "def load_pdf(path: str) -> List[Document]:\n",
    "    return PyPDFLoader(path).load()\n",
    "\n",
    "\n",
    "def load_docx(path: str) -> List[Document]:\n",
    "    full_text = \"\\n\".join([para.text.strip() for para in DocxDocument(path).paragraphs if para.text.strip()])\n",
    "    return [Document(page_content=full_text, metadata={\"source\": path})]\n",
    "\n",
    "\n",
    "def load_documents(paths: List[str]) -> List[Document]:\n",
    "    all_docs = []\n",
    "    for path in paths:\n",
    "        ext = os.path.splitext(path)[1].lower()\n",
    "        if ext == \".txt\":\n",
    "            all_docs.extend(load_txt(path))\n",
    "        elif ext == \".pdf\":\n",
    "            all_docs.extend(load_pdf(path))\n",
    "        elif ext == \".docx\":\n",
    "            all_docs.extend(load_docx(path))\n",
    "    return all_docs\n",
    "\n",
    "\n",
    "def save_vectorstore(docs: List[Document], path: str):\n",
    "    embedder = get_embedder()\n",
    "    vectordb = FAISS.from_documents(docs, embedder)\n",
    "    vectordb.save_local(path)\n",
    "    print(f\"Vectorstore saved to: {path}\")\n"
   ],
   "outputs": [],
   "execution_count": 2
  },
  {
   "metadata": {
    "ExecuteTime": {
     "end_time": "2025-07-25T09:23:38.665692Z",
     "start_time": "2025-07-25T09:23:37.814779Z"
    }
   },
   "cell_type": "code",
   "source": [
    "from langchain.schema import Document\n",
    "from sklearn.metrics.pairwise import cosine_similarity\n",
    "from typing import List\n",
    "from vector_store.embedder import get_embedder\n",
    "\n",
    "\n",
    "def paragraph_split(docs: List[Document], chunk_size=512) -> List[Document]:\n",
    "    chunks = []\n",
    "    for doc in docs:\n",
    "        paras = doc.page_content.split(\"\\n\\n\")\n",
    "        buf = \"\"\n",
    "        for para in paras:\n",
    "            if len(buf) + len(para) <= chunk_size:\n",
    "                buf += para + \"\\n\\n\"\n",
    "            else:\n",
    "                chunks.append(Document(page_content=buf.strip(), metadata=doc.metadata))\n",
    "                buf = para + \"\\n\\n\"\n",
    "        if buf:\n",
    "            chunks.append(Document(page_content=buf.strip(), metadata=doc.metadata))\n",
    "    return chunks\n",
    "\n",
    "\n",
    "def semantic_split(docs: List[Document], threshold=0.85) -> List[Document]:\n",
    "    embedder = get_embedder()\n",
    "    chunks = []\n",
    "    for doc in docs:\n",
    "        paras = doc.page_content.split(\"\\n\\n\")\n",
    "        if len(paras) < 2:\n",
    "            chunks.append(doc)\n",
    "            continue\n",
    "        buf = []\n",
    "        for i in range(len(paras) - 1):\n",
    "            buf.append(paras[i])\n",
    "            v1 = embedder.embed_query(\"passage: \" + paras[i])\n",
    "            v2 = embedder.embed_query(\"passage: \" + paras[i + 1])\n",
    "            sim = cosine_similarity([v1], [v2])[0][0]\n",
    "            if sim < threshold:\n",
    "                chunks.append(Document(page_content=\"\\n\\n\".join(buf).strip(), metadata=doc.metadata))\n",
    "                buf = []\n",
    "        buf.append(paras[-1])\n",
    "        if buf:\n",
    "            chunks.append(Document(page_content=\"\\n\\n\".join(buf).strip(), metadata=doc.metadata))\n",
    "    return chunks\n"
   ],
   "id": "d8980a2ba428b5d8",
   "outputs": [],
   "execution_count": 3
  },
  {
   "metadata": {
    "ExecuteTime": {
     "end_time": "2025-07-25T09:25:32.343015Z",
     "start_time": "2025-07-25T09:25:32.338837Z"
    }
   },
   "cell_type": "code",
   "source": [
    "from vector_store.store import load_documents, save_vectorstore\n",
    "from splitter.text_splitter import recursive_split\n",
    "from splitter.splitter_utils import semantic_split, paragraph_split\n",
    "\n",
    "\n",
    "def build_dual_stores(bn_files, en_files, strategy=\"semantic\"):\n",
    "    splitter = {\n",
    "        \"semantic\": semantic_split,\n",
    "        \"paragraph\": paragraph_split,\n",
    "        \"recursive\": recursive_split\n",
    "    }.get(strategy)\n",
    "\n",
    "    if not splitter:\n",
    "        raise ValueError(f\"Invalid split strategy: {strategy}\")\n",
    "\n",
    "    print(\"Bangla\")\n",
    "    bn_chunks = splitter(load_documents(bn_files))\n",
    "    print(bn_chunks)\n"
   ],
   "id": "6bee2df7618265f9",
   "outputs": [],
   "execution_count": 5
  },
  {
   "metadata": {
    "ExecuteTime": {
     "end_time": "2025-07-25T09:26:06.068968Z",
     "start_time": "2025-07-25T09:26:06.047511Z"
    }
   },
   "cell_type": "code",
   "source": [
    "en_dir = \"data/raw/english\"\n",
    "bn_dir = \"data/raw/bangla\"\n",
    "\n",
    "\n",
    "# Get all files from directories\n",
    "en_files = [os.path.join(en_dir, f) for f in os.listdir(en_dir) if os.path.isfile(os.path.join(en_dir, f))]\n",
    "bn_files = [os.path.join(bn_dir, f) for f in os.listdir(bn_dir) if os.path.isfile(os.path.join(bn_dir, f))]\n",
    "\n",
    "build_dual_stores(bn_files, en_files, strategy='semantic')"
   ],
   "id": "75214dc141fe6e79",
   "outputs": [
    {
     "ename": "FileNotFoundError",
     "evalue": "[WinError 3] The system cannot find the path specified: '/data/raw/english'",
     "output_type": "error",
     "traceback": [
      "\u001B[31m---------------------------------------------------------------------------\u001B[39m",
      "\u001B[31mFileNotFoundError\u001B[39m                         Traceback (most recent call last)",
      "\u001B[36mCell\u001B[39m\u001B[36m \u001B[39m\u001B[32mIn[8]\u001B[39m\u001B[32m, line 6\u001B[39m\n\u001B[32m      2\u001B[39m bn_dir = \u001B[33m\"\u001B[39m\u001B[33mdata/raw/bangla\u001B[39m\u001B[33m\"\u001B[39m\n\u001B[32m      5\u001B[39m \u001B[38;5;66;03m# Get all files from directories\u001B[39;00m\n\u001B[32m----> \u001B[39m\u001B[32m6\u001B[39m en_files = [os.path.join(en_dir, f) \u001B[38;5;28;01mfor\u001B[39;00m f \u001B[38;5;129;01min\u001B[39;00m \u001B[43mos\u001B[49m\u001B[43m.\u001B[49m\u001B[43mlistdir\u001B[49m\u001B[43m(\u001B[49m\u001B[43men_dir\u001B[49m\u001B[43m)\u001B[49m \u001B[38;5;28;01mif\u001B[39;00m os.path.isfile(os.path.join(en_dir, f))]\n\u001B[32m      7\u001B[39m bn_files = [os.path.join(bn_dir, f) \u001B[38;5;28;01mfor\u001B[39;00m f \u001B[38;5;129;01min\u001B[39;00m os.listdir(bn_dir) \u001B[38;5;28;01mif\u001B[39;00m os.path.isfile(os.path.join(bn_dir, f))]\n\u001B[32m      9\u001B[39m build_dual_stores(bn_files, en_files, strategy=\u001B[33m'\u001B[39m\u001B[33msemantic\u001B[39m\u001B[33m'\u001B[39m)\n",
      "\u001B[31mFileNotFoundError\u001B[39m: [WinError 3] The system cannot find the path specified: '/data/raw/english'"
     ]
    }
   ],
   "execution_count": 8
  },
  {
   "metadata": {
    "ExecuteTime": {
     "end_time": "2025-07-25T12:21:14.899203Z",
     "start_time": "2025-07-25T12:21:13.942632Z"
    }
   },
   "cell_type": "code",
   "source": [
    "import nltk\n",
    "\n",
    "nltk.download('punkt')\n",
    "nltk.download('stopwords')\n",
    "nltk.download('wordnet')"
   ],
   "id": "1efcfe6c8a27e698",
   "outputs": [
    {
     "name": "stderr",
     "output_type": "stream",
     "text": [
      "[nltk_data] Downloading package punkt to C:\\Users\\shahabuddin akhon\n",
      "[nltk_data]     hr\\AppData\\Roaming\\nltk_data...\n",
      "[nltk_data]   Package punkt is already up-to-date!\n",
      "[nltk_data] Downloading package stopwords to C:\\Users\\shahabuddin\n",
      "[nltk_data]     akhon hr\\AppData\\Roaming\\nltk_data...\n",
      "[nltk_data]   Package stopwords is already up-to-date!\n",
      "[nltk_data] Downloading package wordnet to C:\\Users\\shahabuddin akhon\n",
      "[nltk_data]     hr\\AppData\\Roaming\\nltk_data...\n",
      "[nltk_data]   Package wordnet is already up-to-date!\n"
     ]
    },
    {
     "data": {
      "text/plain": [
       "True"
      ]
     },
     "execution_count": 9,
     "metadata": {},
     "output_type": "execute_result"
    }
   ],
   "execution_count": 9
  },
  {
   "metadata": {
    "ExecuteTime": {
     "end_time": "2025-07-25T12:22:02.436340Z",
     "start_time": "2025-07-25T12:22:02.432339Z"
    }
   },
   "cell_type": "code",
   "source": [
    "from nltk.corpus import stopwords\n",
    "print(stopwords.fileids())  # Lists all available languages"
   ],
   "id": "64a9e16f83d0e766",
   "outputs": [
    {
     "name": "stdout",
     "output_type": "stream",
     "text": [
      "['albanian', 'arabic', 'azerbaijani', 'basque', 'belarusian', 'bengali', 'catalan', 'chinese', 'danish', 'dutch', 'english', 'finnish', 'french', 'german', 'greek', 'hebrew', 'hinglish', 'hungarian', 'indonesian', 'italian', 'kazakh', 'nepali', 'norwegian', 'portuguese', 'romanian', 'russian', 'slovene', 'spanish', 'swedish', 'tajik', 'tamil', 'turkish']\n"
     ]
    }
   ],
   "execution_count": 11
  },
  {
   "metadata": {},
   "cell_type": "code",
   "outputs": [],
   "execution_count": null,
   "source": "",
   "id": "77daa06503ad31ff"
  }
 ],
 "metadata": {
  "kernelspec": {
   "display_name": "Python 3",
   "language": "python",
   "name": "python3"
  },
  "language_info": {
   "codemirror_mode": {
    "name": "ipython",
    "version": 2
   },
   "file_extension": ".py",
   "mimetype": "text/x-python",
   "name": "python",
   "nbconvert_exporter": "python",
   "pygments_lexer": "ipython2",
   "version": "2.7.6"
  }
 },
 "nbformat": 4,
 "nbformat_minor": 5
}
